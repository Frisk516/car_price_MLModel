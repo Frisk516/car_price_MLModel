{
 "cells": [
  {
   "cell_type": "code",
   "execution_count": 1,
   "id": "2bcb2e1f",
   "metadata": {},
   "outputs": [],
   "source": [
    "#importing data manipulation libraries\n",
    "import pandas as pd\n",
    "import numpy as np\n",
    "\n",
    "#importing visualization libraries\n",
    "import matplotlib.pyplot as plt\n",
    "import seaborn as sns\n",
    "\n",
    "\n",
    "#importing logging\n",
    "import logging\n",
    "logging.basicConfig(filename = 'car_price.log', level = logging.INFO,filemode='w', format = '%(asctime)s %(levelname)s %(message)s')\n",
    "\n",
    "#importing warnings\n",
    "import warnings\n",
    "warnings.filterwarnings('ignore')"
   ]
  },
  {
   "cell_type": "code",
   "execution_count": 2,
   "metadata": {},
   "outputs": [
    {
     "data": {
      "text/html": [
       "<div>\n",
       "<style scoped>\n",
       "    .dataframe tbody tr th:only-of-type {\n",
       "        vertical-align: middle;\n",
       "    }\n",
       "\n",
       "    .dataframe tbody tr th {\n",
       "        vertical-align: top;\n",
       "    }\n",
       "\n",
       "    .dataframe thead th {\n",
       "        text-align: right;\n",
       "    }\n",
       "</style>\n",
       "<table border=\"1\" class=\"dataframe\">\n",
       "  <thead>\n",
       "    <tr style=\"text-align: right;\">\n",
       "      <th></th>\n",
       "      <th>name</th>\n",
       "      <th>year</th>\n",
       "      <th>selling_price</th>\n",
       "      <th>km_driven</th>\n",
       "      <th>fuel</th>\n",
       "      <th>seller_type</th>\n",
       "      <th>transmission</th>\n",
       "      <th>owner</th>\n",
       "    </tr>\n",
       "  </thead>\n",
       "  <tbody>\n",
       "    <tr>\n",
       "      <th>2205</th>\n",
       "      <td>Maruti 800 Std BSII</td>\n",
       "      <td>2006</td>\n",
       "      <td>90000</td>\n",
       "      <td>40000</td>\n",
       "      <td>Petrol</td>\n",
       "      <td>Individual</td>\n",
       "      <td>Manual</td>\n",
       "      <td>Second Owner</td>\n",
       "    </tr>\n",
       "    <tr>\n",
       "      <th>83</th>\n",
       "      <td>Nissan Terrano XL</td>\n",
       "      <td>2014</td>\n",
       "      <td>650000</td>\n",
       "      <td>76000</td>\n",
       "      <td>Petrol</td>\n",
       "      <td>Individual</td>\n",
       "      <td>Manual</td>\n",
       "      <td>Second Owner</td>\n",
       "    </tr>\n",
       "    <tr>\n",
       "      <th>1227</th>\n",
       "      <td>Tata Indica Vista TDI LS</td>\n",
       "      <td>2013</td>\n",
       "      <td>210000</td>\n",
       "      <td>135000</td>\n",
       "      <td>Diesel</td>\n",
       "      <td>Dealer</td>\n",
       "      <td>Manual</td>\n",
       "      <td>Second Owner</td>\n",
       "    </tr>\n",
       "    <tr>\n",
       "      <th>3057</th>\n",
       "      <td>Maruti Alto LXi</td>\n",
       "      <td>2012</td>\n",
       "      <td>180000</td>\n",
       "      <td>40000</td>\n",
       "      <td>Petrol</td>\n",
       "      <td>Individual</td>\n",
       "      <td>Manual</td>\n",
       "      <td>Second Owner</td>\n",
       "    </tr>\n",
       "    <tr>\n",
       "      <th>3566</th>\n",
       "      <td>Hyundai Creta 1.6 SX</td>\n",
       "      <td>2019</td>\n",
       "      <td>1200000</td>\n",
       "      <td>1200</td>\n",
       "      <td>Petrol</td>\n",
       "      <td>Individual</td>\n",
       "      <td>Manual</td>\n",
       "      <td>First Owner</td>\n",
       "    </tr>\n",
       "    <tr>\n",
       "      <th>...</th>\n",
       "      <td>...</td>\n",
       "      <td>...</td>\n",
       "      <td>...</td>\n",
       "      <td>...</td>\n",
       "      <td>...</td>\n",
       "      <td>...</td>\n",
       "      <td>...</td>\n",
       "      <td>...</td>\n",
       "    </tr>\n",
       "    <tr>\n",
       "      <th>2485</th>\n",
       "      <td>Maruti Alto K10 VXI AGS</td>\n",
       "      <td>2015</td>\n",
       "      <td>281000</td>\n",
       "      <td>4432</td>\n",
       "      <td>Petrol</td>\n",
       "      <td>Dealer</td>\n",
       "      <td>Automatic</td>\n",
       "      <td>Second Owner</td>\n",
       "    </tr>\n",
       "    <tr>\n",
       "      <th>3119</th>\n",
       "      <td>Chevrolet Aveo 1.4</td>\n",
       "      <td>2007</td>\n",
       "      <td>85000</td>\n",
       "      <td>70000</td>\n",
       "      <td>Petrol</td>\n",
       "      <td>Individual</td>\n",
       "      <td>Manual</td>\n",
       "      <td>Second Owner</td>\n",
       "    </tr>\n",
       "    <tr>\n",
       "      <th>3441</th>\n",
       "      <td>Maruti Wagon R VXI BS IV</td>\n",
       "      <td>2016</td>\n",
       "      <td>375000</td>\n",
       "      <td>30000</td>\n",
       "      <td>Petrol</td>\n",
       "      <td>Individual</td>\n",
       "      <td>Manual</td>\n",
       "      <td>Second Owner</td>\n",
       "    </tr>\n",
       "    <tr>\n",
       "      <th>125</th>\n",
       "      <td>Maruti Swift Vdi BSIII</td>\n",
       "      <td>2007</td>\n",
       "      <td>100000</td>\n",
       "      <td>110000</td>\n",
       "      <td>Diesel</td>\n",
       "      <td>Individual</td>\n",
       "      <td>Manual</td>\n",
       "      <td>Fourth &amp; Above Owner</td>\n",
       "    </tr>\n",
       "    <tr>\n",
       "      <th>1020</th>\n",
       "      <td>Ford Fiesta 1.5 TDCi Titanium</td>\n",
       "      <td>2011</td>\n",
       "      <td>195000</td>\n",
       "      <td>133564</td>\n",
       "      <td>Diesel</td>\n",
       "      <td>Dealer</td>\n",
       "      <td>Manual</td>\n",
       "      <td>First Owner</td>\n",
       "    </tr>\n",
       "  </tbody>\n",
       "</table>\n",
       "<p>4340 rows × 8 columns</p>\n",
       "</div>"
      ],
      "text/plain": [
       "                               name  year  selling_price  km_driven    fuel  \\\n",
       "2205            Maruti 800 Std BSII  2006          90000      40000  Petrol   \n",
       "83                Nissan Terrano XL  2014         650000      76000  Petrol   \n",
       "1227       Tata Indica Vista TDI LS  2013         210000     135000  Diesel   \n",
       "3057                Maruti Alto LXi  2012         180000      40000  Petrol   \n",
       "3566           Hyundai Creta 1.6 SX  2019        1200000       1200  Petrol   \n",
       "...                             ...   ...            ...        ...     ...   \n",
       "2485        Maruti Alto K10 VXI AGS  2015         281000       4432  Petrol   \n",
       "3119             Chevrolet Aveo 1.4  2007          85000      70000  Petrol   \n",
       "3441       Maruti Wagon R VXI BS IV  2016         375000      30000  Petrol   \n",
       "125          Maruti Swift Vdi BSIII  2007         100000     110000  Diesel   \n",
       "1020  Ford Fiesta 1.5 TDCi Titanium  2011         195000     133564  Diesel   \n",
       "\n",
       "     seller_type transmission                 owner  \n",
       "2205  Individual       Manual          Second Owner  \n",
       "83    Individual       Manual          Second Owner  \n",
       "1227      Dealer       Manual          Second Owner  \n",
       "3057  Individual       Manual          Second Owner  \n",
       "3566  Individual       Manual           First Owner  \n",
       "...          ...          ...                   ...  \n",
       "2485      Dealer    Automatic          Second Owner  \n",
       "3119  Individual       Manual          Second Owner  \n",
       "3441  Individual       Manual          Second Owner  \n",
       "125   Individual       Manual  Fourth & Above Owner  \n",
       "1020      Dealer       Manual           First Owner  \n",
       "\n",
       "[4340 rows x 8 columns]"
      ]
     },
     "execution_count": 2,
     "metadata": {},
     "output_type": "execute_result"
    }
   ],
   "source": [
    "url=\"https://raw.githubusercontent.com/Frisk516/car_price_MLModel/refs/heads/main/CAR%20DETAILS%20FROM%20CAR%20DEKHO.csv\"\n",
    "df=pd.read_csv(url)\n",
    "df.sample(frac=1)\n"
   ]
  },
  {
   "cell_type": "code",
   "execution_count": 3,
   "id": "ab23fc0c",
   "metadata": {},
   "outputs": [],
   "source": [
    "#separating numerical and categorical data\n",
    "numerical_data=df.select_dtypes(exclude=object)\n",
    "categorial_data=df.select_dtypes(include=object)"
   ]
  },
  {
   "cell_type": "code",
   "execution_count": 4,
   "metadata": {},
   "outputs": [
    {
     "data": {
      "image/png": "[encoded data removed]",
      "text/plain": [
       "<Figure size 1400x500 with 2 Axes>"
      ]
     },
     "metadata": {},
     "output_type": "display_data"
    },
    {
     "data": {
      "image/png": "[encoded data removed]",
      "text/plain": [
       "<Figure size 1400x500 with 2 Axes>"
      ]
     },
     "metadata": {},
     "output_type": "display_data"
    },
    {
     "data": {
      "image/png": "[encoded data removed]",
      "text/plain": [
       "<Figure size 1400x500 with 2 Axes>"
      ]
     },
     "metadata": {},
     "output_type": "display_data"
    }
   ],
   "source": [
    "# Set plot style\n",
    "sns.set(style=\"whitegrid\")\n",
    "\n",
    "# Plot boxplots and bell curves for each numerical feature\n",
    "for col in numerical_data.columns:\n",
    "    plt.figure(figsize=(14, 5))\n",
    "    \n",
    "    # Boxplot (shows outliers as points beyond whiskers)\n",
    "    plt.subplot(1, 2, 1)\n",
    "    sns.boxplot(x=df[col])\n",
    "    plt.title(f'Boxplot of {col}')\n",
    "    \n",
    "    # Bell curve: histogram + KDE (to check distribution shape)\n",
    "    plt.subplot(1, 2, 2)\n",
    "    sns.histplot(df[col], kde=True, bins=30)\n",
    "    plt.title(f'Histogram & KDE of {col}')\n",
    "    \n",
    "    plt.show()"
   ]
  },
  {
   "cell_type": "code",
   "execution_count": 5,
   "id": "983b16fc",
   "metadata": {},
   "outputs": [
    {
     "data": {
      "text/html": [
       "<div>\n",
       "<style scoped>\n",
       "    .dataframe tbody tr th:only-of-type {\n",
       "        vertical-align: middle;\n",
       "    }\n",
       "\n",
       "    .dataframe tbody tr th {\n",
       "        vertical-align: top;\n",
       "    }\n",
       "\n",
       "    .dataframe thead th {\n",
       "        text-align: right;\n",
       "    }\n",
       "</style>\n",
       "<table border=\"1\" class=\"dataframe\">\n",
       "  <thead>\n",
       "    <tr style=\"text-align: right;\">\n",
       "      <th></th>\n",
       "      <th>feature</th>\n",
       "      <th>mean</th>\n",
       "      <th>median</th>\n",
       "      <th>mode</th>\n",
       "      <th>std</th>\n",
       "      <th>min</th>\n",
       "      <th>max</th>\n",
       "      <th>skewness</th>\n",
       "      <th>kurtosis</th>\n",
       "      <th>Outlier Comment</th>\n",
       "    </tr>\n",
       "  </thead>\n",
       "  <tbody>\n",
       "    <tr>\n",
       "      <th>0</th>\n",
       "      <td>year</td>\n",
       "      <td>2013.090783</td>\n",
       "      <td>2014.0</td>\n",
       "      <td>2017</td>\n",
       "      <td>4.215344</td>\n",
       "      <td>1992</td>\n",
       "      <td>2020</td>\n",
       "      <td>-0.833240</td>\n",
       "      <td>0.668263</td>\n",
       "      <td>Has Outliers</td>\n",
       "    </tr>\n",
       "    <tr>\n",
       "      <th>1</th>\n",
       "      <td>selling_price</td>\n",
       "      <td>504127.311751</td>\n",
       "      <td>350000.0</td>\n",
       "      <td>300000</td>\n",
       "      <td>578548.736139</td>\n",
       "      <td>20000</td>\n",
       "      <td>8900000</td>\n",
       "      <td>4.892021</td>\n",
       "      <td>37.087543</td>\n",
       "      <td>Has Outliers</td>\n",
       "    </tr>\n",
       "    <tr>\n",
       "      <th>2</th>\n",
       "      <td>km_driven</td>\n",
       "      <td>66215.777419</td>\n",
       "      <td>60000.0</td>\n",
       "      <td>70000</td>\n",
       "      <td>46644.102194</td>\n",
       "      <td>1</td>\n",
       "      <td>806599</td>\n",
       "      <td>2.669057</td>\n",
       "      <td>23.316809</td>\n",
       "      <td>Has Outliers</td>\n",
       "    </tr>\n",
       "  </tbody>\n",
       "</table>\n",
       "</div>"
      ],
      "text/plain": [
       "         feature           mean    median    mode            std    min  \\\n",
       "0           year    2013.090783    2014.0    2017       4.215344   1992   \n",
       "1  selling_price  504127.311751  350000.0  300000  578548.736139  20000   \n",
       "2      km_driven   66215.777419   60000.0   70000   46644.102194      1   \n",
       "\n",
       "       max  skewness   kurtosis Outlier Comment  \n",
       "0     2020 -0.833240   0.668263    Has Outliers  \n",
       "1  8900000  4.892021  37.087543    Has Outliers  \n",
       "2   806599  2.669057  23.316809    Has Outliers  "
      ]
     },
     "execution_count": 5,
     "metadata": {},
     "output_type": "execute_result"
    }
   ],
   "source": [
    "#performing EDA\n",
    "\n",
    "from collections import OrderedDict\n",
    "stats=[]\n",
    "for i in numerical_data:\n",
    "    numerical_stats=OrderedDict({\n",
    "        'feature':i,\n",
    "        'mean':df[i].mean(),\n",
    "        'median':df[i].median(),\n",
    "        'mode':df[i].mode()[0],\n",
    "        'std':df[i].std(),\n",
    "        'min':df[i].min(),\n",
    "        'max':df[i].max(),\n",
    "        'skewness':df[i].skew(),\n",
    "        'kurtosis':df[i].kurt()\n",
    "    })\n",
    "    stats.append(numerical_stats)\n",
    "    report=pd.DataFrame(stats)\n",
    "\n",
    "\n",
    "# Outlier Identification :\n",
    "outlier_label = []\n",
    "for col in report['feature']:\n",
    "    Q1 = df[col].quantile(0.25)\n",
    "    Q3 = df[col].quantile(0.75)\n",
    "    IQR = Q3 - Q1\n",
    "    LW = Q1 - 1.5 * IQR   # LW : Lower Whisker Line\n",
    "    UW = Q3 + 1.5 * IQR   # UW : Upper Whisker Line\n",
    "    outliers = df[(df[col] < LW) | (df[col] > UW)]\n",
    "    if not outliers.empty:\n",
    "        outlier_label.append(\"Has Outliers\")\n",
    "    else:\n",
    "        outlier_label.append(\"No Outliers\")\n",
    "\n",
    "report[\"Outlier Comment\"] = outlier_label\n",
    "\n",
    "# Checking Report\n",
    "report"
   ]
  },
  {
   "cell_type": "code",
   "execution_count": 6,
   "id": "28aa2ca8",
   "metadata": {},
   "outputs": [
    {
     "data": {
      "text/html": [
       "<div>\n",
       "<style scoped>\n",
       "    .dataframe tbody tr th:only-of-type {\n",
       "        vertical-align: middle;\n",
       "    }\n",
       "\n",
       "    .dataframe tbody tr th {\n",
       "        vertical-align: top;\n",
       "    }\n",
       "\n",
       "    .dataframe thead th {\n",
       "        text-align: right;\n",
       "    }\n",
       "</style>\n",
       "<table border=\"1\" class=\"dataframe\">\n",
       "  <thead>\n",
       "    <tr style=\"text-align: right;\">\n",
       "      <th></th>\n",
       "      <th>name</th>\n",
       "      <th>year</th>\n",
       "      <th>selling_price</th>\n",
       "      <th>km_driven</th>\n",
       "      <th>fuel</th>\n",
       "      <th>seller_type</th>\n",
       "      <th>transmission</th>\n",
       "      <th>owner</th>\n",
       "    </tr>\n",
       "  </thead>\n",
       "  <tbody>\n",
       "    <tr>\n",
       "      <th>0</th>\n",
       "      <td>775</td>\n",
       "      <td>2007</td>\n",
       "      <td>60000</td>\n",
       "      <td>70000</td>\n",
       "      <td>4</td>\n",
       "      <td>1</td>\n",
       "      <td>1</td>\n",
       "      <td>0</td>\n",
       "    </tr>\n",
       "    <tr>\n",
       "      <th>1</th>\n",
       "      <td>1041</td>\n",
       "      <td>2007</td>\n",
       "      <td>135000</td>\n",
       "      <td>50000</td>\n",
       "      <td>4</td>\n",
       "      <td>1</td>\n",
       "      <td>1</td>\n",
       "      <td>0</td>\n",
       "    </tr>\n",
       "    <tr>\n",
       "      <th>2</th>\n",
       "      <td>505</td>\n",
       "      <td>2012</td>\n",
       "      <td>600000</td>\n",
       "      <td>100000</td>\n",
       "      <td>1</td>\n",
       "      <td>1</td>\n",
       "      <td>1</td>\n",
       "      <td>0</td>\n",
       "    </tr>\n",
       "    <tr>\n",
       "      <th>3</th>\n",
       "      <td>118</td>\n",
       "      <td>2017</td>\n",
       "      <td>250000</td>\n",
       "      <td>46000</td>\n",
       "      <td>4</td>\n",
       "      <td>1</td>\n",
       "      <td>1</td>\n",
       "      <td>0</td>\n",
       "    </tr>\n",
       "    <tr>\n",
       "      <th>4</th>\n",
       "      <td>279</td>\n",
       "      <td>2014</td>\n",
       "      <td>450000</td>\n",
       "      <td>141000</td>\n",
       "      <td>1</td>\n",
       "      <td>1</td>\n",
       "      <td>1</td>\n",
       "      <td>2</td>\n",
       "    </tr>\n",
       "  </tbody>\n",
       "</table>\n",
       "</div>"
      ],
      "text/plain": [
       "   name  year  selling_price  km_driven  fuel  seller_type  transmission  \\\n",
       "0   775  2007          60000      70000     4            1             1   \n",
       "1  1041  2007         135000      50000     4            1             1   \n",
       "2   505  2012         600000     100000     1            1             1   \n",
       "3   118  2017         250000      46000     4            1             1   \n",
       "4   279  2014         450000     141000     1            1             1   \n",
       "\n",
       "   owner  \n",
       "0      0  \n",
       "1      0  \n",
       "2      0  \n",
       "3      0  \n",
       "4      2  "
      ]
     },
     "execution_count": 6,
     "metadata": {},
     "output_type": "execute_result"
    }
   ],
   "source": [
    "#using labelencoder to encode name,fuel,seller_type,transmission,owner\n",
    "\n",
    "from sklearn.preprocessing import LabelEncoder\n",
    "le=LabelEncoder()\n",
    "df['name']=le.fit_transform(categorial_data['name'])\n",
    "df['fuel']=le.fit_transform(categorial_data['fuel'])\n",
    "df['seller_type']=le.fit_transform(categorial_data['seller_type'])\n",
    "df['transmission']=le.fit_transform(categorial_data['transmission'])\n",
    "df['owner']=le.fit_transform(categorial_data['owner'])\n",
    "\n",
    "df.head()\n"
   ]
  },
  {
   "cell_type": "code",
   "execution_count": 8,
   "id": "33597e1b",
   "metadata": {},
   "outputs": [],
   "source": [
    "#train test split to prevent data leak\n",
    "\n",
    "from sklearn.model_selection import train_test_split\n",
    "X=df.drop('selling_price',axis=1)\n",
    "y=df['selling_price']\n",
    "X_train,X_test,y_train,y_test=train_test_split(X,y,test_size=0.3,random_state=7)"
   ]
  },
  {
   "cell_type": "code",
   "execution_count": 9,
   "id": "76ac2726",
   "metadata": {},
   "outputs": [],
   "source": [
    "#since data has a lot of outliers,we will be using robustscaler\n",
    "\n",
    "from sklearn.preprocessing import RobustScaler\n",
    "scaler=RobustScaler()\n",
    "X_train=scaler.fit_transform(X_train)\n",
    "X_test=scaler.transform(X_test)\n"
   ]
  },
  {
   "cell_type": "code",
   "execution_count": 11,
   "id": "054556fc",
   "metadata": {},
   "outputs": [
    {
     "data": {
      "text/plain": [
       "0.4457466637782712"
      ]
     },
     "execution_count": 11,
     "metadata": {},
     "output_type": "execute_result"
    }
   ],
   "source": [
    "#using linear regression\n",
    "\n",
    "from sklearn.linear_model import LinearRegression\n",
    "\n",
    "LR=LinearRegression()\n",
    "\n",
    "LR.fit(X_train,y_train)\n",
    "\n",
    "y_pred_LR=LR.predict(X_test)\n",
    "\n",
    "from sklearn.metrics import mean_squared_error, r2_score,mean_absolute_error\n",
    "\n",
    "r2_score_LR=r2_score(y_test,y_pred_LR)\n",
    "r2_score_LR"
   ]
  },
  {
   "cell_type": "code",
   "execution_count": 12,
   "id": "a6b09189",
   "metadata": {},
   "outputs": [
    {
     "name": "stdout",
     "output_type": "stream",
     "text": [
      "The R2 Score for  0.818964293743907\n"
     ]
    }
   ],
   "source": [
    "from sklearn.ensemble import RandomForestRegressor\n",
    "\n",
    "RF=RandomForestRegressor()\n",
    "\n",
    "RF.fit(X_train,y_train)\n",
    "\n",
    "y_pred_RF=RF.predict(X_test)\n",
    "\n",
    "r2_score_RF = r2_score(y_test,y_pred_RF)\n",
    "print(f'The R2 Score for ',r2_score_RF)"
   ]
  },
  {
   "cell_type": "code",
   "execution_count": 13,
   "id": "779ec7f7",
   "metadata": {},
   "outputs": [
    {
     "data": {
      "text/plain": [
       "0.7319673730435069"
      ]
     },
     "execution_count": 13,
     "metadata": {},
     "output_type": "execute_result"
    }
   ],
   "source": [
    "from sklearn.tree import DecisionTreeRegressor\n",
    "\n",
    "DT=DecisionTreeRegressor()\n",
    "\n",
    "DT.fit(X_train,y_train)\n",
    "\n",
    "y_pred_DT=DT.predict(X_test)\n",
    "\n",
    "r2_score_DT=r2_score(y_test,y_pred_DT)\n",
    "r2_score_DT"
   ]
  },
  {
   "cell_type": "code",
   "execution_count": 14,
   "id": "17891a61",
   "metadata": {},
   "outputs": [
    {
     "name": "stdout",
     "output_type": "stream",
     "text": [
      "The mean squared error for Linear Regression Model: 145959249676.82077\n",
      "The mean absolute error for Linear Regression Model: 227304.64264122277\n",
      "The mean squared error for Decision Tree Model: 70584764335.68326\n",
      "The mean absolute error for Decision Tree Model: 113612.82616487457\n"
     ]
    }
   ],
   "source": [
    "#checking Model Performance \n",
    "\n",
    "mse_LR =mean_squared_error(y_test, y_pred_LR)\n",
    "mse_DT= mean_squared_error(y_test, y_pred_DT)\n",
    "\n",
    "mae_LR = mean_absolute_error(y_test, y_pred_LR)\n",
    "mae_DT = mean_absolute_error(y_test, y_pred_DT)\n",
    "\n",
    "print(f'The mean squared error for Linear Regression Model: {mse_LR}')\n",
    "\n",
    "print(f'The mean absolute error for Linear Regression Model: {mae_LR}')\n",
    "\n",
    "print(f'The mean squared error for Decision Tree Model: {mse_DT}')\n",
    "\n",
    "print(f'The mean absolute error for Decision Tree Model: {mae_DT}')"
   ]
  },
  {
   "cell_type": "code",
   "execution_count": 15,
   "id": "ebc1b0da",
   "metadata": {},
   "outputs": [
    {
     "name": "stdout",
     "output_type": "stream",
     "text": [
      "The R2 Score for XGBoost Model: 0.8765507340431213\n"
     ]
    }
   ],
   "source": [
    "#Using XGB Bossting Algorithm\n",
    "\n",
    "import xgboost as xgb\n",
    "\n",
    "XGB = xgb.XGBRegressor()\n",
    "\n",
    "XGB.fit(X_train, y_train)\n",
    "\n",
    "y_pred_XGB = XGB.predict(X_test)\n",
    "\n",
    "r2_score_XGB = r2_score(y_test, y_pred_XGB)\n",
    "\n",
    "print(f'The R2 Score for XGBoost Model: {r2_score_XGB}')"
   ]
  },
  {
   "cell_type": "code",
   "execution_count": 16,
   "id": "e1b22cb1",
   "metadata": {},
   "outputs": [
    {
     "name": "stdout",
     "output_type": "stream",
     "text": [
      "The R2 Score for AdaBoost Model: 0.47613944336174197\n"
     ]
    }
   ],
   "source": [
    "from sklearn.ensemble import AdaBoostRegressor\n",
    "ADA=AdaBoostRegressor()\n",
    "\n",
    "ADA.fit(X_train, y_train)\n",
    "\n",
    "y_pred_ADA = ADA.predict(X_test)\n",
    "\n",
    "r2_score_ADA = r2_score(y_test, y_pred_ADA)\n",
    "\n",
    "print(f'The R2 Score for AdaBoost Model: {r2_score_ADA}')"
   ]
  },
  {
   "cell_type": "code",
   "execution_count": 17,
   "id": "4d5d954e",
   "metadata": {},
   "outputs": [
    {
     "name": "stdout",
     "output_type": "stream",
     "text": [
      "Best Parameters: {'max_depth': 20, 'n_estimators': 50}\n",
      "R2 Score: 0.8012948981254123\n"
     ]
    }
   ],
   "source": [
    "from sklearn.ensemble import RandomForestRegressor\n",
    "from sklearn.model_selection import GridSearchCV\n",
    "\n",
    "# Define model and parameter grid\n",
    "model=RandomForestRegressor(random_state=42)\n",
    "param_grid = {'n_estimators': [25,50,100, 200, 300, 400,500],'max_depth': [None, 10,20,30,40,50]}\n",
    "\n",
    "#Grid Search Cv\n",
    "grid_search = GridSearchCV(model, param_grid, cv=3, n_jobs=-1)\n",
    "grid_search.fit(X_train, y_train)\n",
    "\n",
    "# Best Model\n",
    "best_model = grid_search.best_estimator_\n",
    "y_pred=best_model.predict(X_test)\n",
    "\n",
    "#print result\n",
    "print('Best Parameters:', grid_search.best_params_)\n",
    "print('R2 Score:', r2_score(y_test, y_pred))"
   ]
  },
  {
   "cell_type": "code",
   "execution_count": null,
   "id": "d3419b64",
   "metadata": {},
   "outputs": [],
   "source": [
    "#XGboost gave the best score\n"
   ]
  }
 ],
 "metadata": {
  "kernelspec": {
   "display_name": "base",
   "language": "python",
   "name": "python3"
  },
  "language_info": {
   "codemirror_mode": {
    "name": "ipython",
    "version": 3
   },
   "file_extension": ".py",
   "mimetype": "text/x-python",
   "name": "python",
   "nbconvert_exporter": "python",
   "pygments_lexer": "ipython3",
   "version": "3.12.7"
  }
 },
 "nbformat": 4,
 "nbformat_minor": 5
}
